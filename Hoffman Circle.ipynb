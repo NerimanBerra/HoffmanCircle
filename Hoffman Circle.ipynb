{
 "cells": [
  {
   "cell_type": "code",
   "execution_count": 52,
   "id": "4f68e8c2-4907-4d63-9151-0d199e5bc7e2",
   "metadata": {},
   "outputs": [],
   "source": [
    "import cv2\n",
    "import numpy as np"
   ]
  },
  {
   "cell_type": "code",
   "execution_count": 54,
   "id": "955ed832-d2fe-40dd-8713-6aec74075fe0",
   "metadata": {},
   "outputs": [],
   "source": [
    "img= cv2.imread(r'C:\\Users\\berra\\Desktop\\RKSoft\\8\\coins1.jpg')"
   ]
  },
  {
   "cell_type": "code",
   "execution_count": 56,
   "id": "35c287d3-ef89-44c0-a4fb-b61bce9f6eaa",
   "metadata": {},
   "outputs": [],
   "source": [
    "gray = cv2.cvtColor(img, cv2.COLOR_BGR2GRAY)"
   ]
  },
  {
   "cell_type": "code",
   "execution_count": 58,
   "id": "09d971d8-28b4-4d32-815b-652e91ae964c",
   "metadata": {},
   "outputs": [],
   "source": [
    "gray = cv2.GaussianBlur(gray,(9,9),2,2)"
   ]
  },
  {
   "cell_type": "code",
   "execution_count": 96,
   "id": "10a16ecb-f964-4ead-8401-cdf1c286b907",
   "metadata": {},
   "outputs": [
    {
     "data": {
      "text/plain": [
       "True"
      ]
     },
     "execution_count": 96,
     "metadata": {},
     "output_type": "execute_result"
    }
   ],
   "source": [
    "blurred = cv2.GaussianBlur(gray, (9, 9), 0)\n",
    "cv2.imwrite(r'C:\\Users\\berra\\Desktop\\RKSoft\\8\\coins5.jpg',blurred)"
   ]
  },
  {
   "cell_type": "code",
   "execution_count": 106,
   "id": "170fc5f3-825a-4a83-b386-820e25e1d5d1",
   "metadata": {},
   "outputs": [
    {
     "data": {
      "text/plain": [
       "True"
      ]
     },
     "execution_count": 106,
     "metadata": {},
     "output_type": "execute_result"
    }
   ],
   "source": [
    "edges = cv2.Canny(blurred, 50, 200)\n",
    "cv2.imwrite(r'C:\\Users\\berra\\Desktop\\RKSoft\\8\\coins6.jpg',edges)"
   ]
  },
  {
   "cell_type": "code",
   "execution_count": null,
   "id": "209b0329-6cc0-4f8d-b307-5129deb25a41",
   "metadata": {},
   "outputs": [],
   "source": []
  },
  {
   "cell_type": "code",
   "execution_count": 148,
   "id": "aacd2d11-050f-4a56-9822-f3c2c073c5d8",
   "metadata": {},
   "outputs": [],
   "source": [
    "params = cv2.SimpleBlobDetector_Params()\n",
    "\n",
    "params.filterByArea = True\n",
    "params.minArea = 260\n",
    "params.filterByCircularity = False\n",
    "params.filterByConvexity = False\n",
    "params.filterByInertia = False\n",
    "\n",
    "detector = cv2.SimpleBlobDetector_create(params)\n"
   ]
  },
  {
   "cell_type": "code",
   "execution_count": 150,
   "id": "7fd42038-738c-4190-804b-d86454af5f41",
   "metadata": {},
   "outputs": [],
   "source": [
    "keypoints = detector.detect(edges)\n"
   ]
  },
  {
   "cell_type": "code",
   "execution_count": 152,
   "id": "666e5ece-ac36-4f05-bff9-6d7706b6c9b8",
   "metadata": {},
   "outputs": [],
   "source": [
    "img_with_keypoints = cv2.drawKeypoints(edges, keypoints, np.array([]), (0, 0, 255), cv2.DRAW_MATCHES_FLAGS_DRAW_RICH_KEYPOINTS)\n"
   ]
  },
  {
   "cell_type": "code",
   "execution_count": 154,
   "id": "ba54a270-5f40-409c-9321-1b0910f5a379",
   "metadata": {},
   "outputs": [
    {
     "data": {
      "text/plain": [
       "True"
      ]
     },
     "execution_count": 154,
     "metadata": {},
     "output_type": "execute_result"
    }
   ],
   "source": [
    "cv2.imwrite(r'C:\\Users\\berra\\Desktop\\RKSoft\\8\\coins7.jpg',img_with_keypoints)\n"
   ]
  },
  {
   "cell_type": "code",
   "execution_count": null,
   "id": "1f205ce6-9b02-43bc-b0a4-b10441aa7c3c",
   "metadata": {},
   "outputs": [],
   "source": []
  }
 ],
 "metadata": {
  "kernelspec": {
   "display_name": "Python 3 (ipykernel)",
   "language": "python",
   "name": "python3"
  },
  "language_info": {
   "codemirror_mode": {
    "name": "ipython",
    "version": 3
   },
   "file_extension": ".py",
   "mimetype": "text/x-python",
   "name": "python",
   "nbconvert_exporter": "python",
   "pygments_lexer": "ipython3",
   "version": "3.12.4"
  }
 },
 "nbformat": 4,
 "nbformat_minor": 5
}
